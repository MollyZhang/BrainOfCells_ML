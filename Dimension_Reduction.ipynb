{
 "cells": [
  {
   "cell_type": "code",
   "execution_count": 1,
   "metadata": {
    "collapsed": true
   },
   "outputs": [],
   "source": [
    "import pandas as pd\n",
    "import numpy as np\n",
    "import time\n",
    "from matplotlib import pyplot as plt\n",
    "from sklearn.decomposition import PCA, KernelPCA\n",
    "from sklearn.preprocessing import MinMaxScaler, MaxAbsScaler\n",
    "\n",
    "%matplotlib inline"
   ]
  },
  {
   "cell_type": "code",
   "execution_count": 3,
   "metadata": {},
   "outputs": [
    {
     "name": "stdout",
     "output_type": "stream",
     "text": [
      "loading matrix takes 151.07967948913574 seconds\n"
     ]
    }
   ],
   "source": [
    "t0 = time.time()\n",
    "df = pd.read_csv(\"./data_v4/ExpressionMatrix_cleaned.csv\", \n",
    "                 index_col=\"sample\")\n",
    "print(\"loading matrix takes {0} seconds\".format(time.time()-t0))"
   ]
  },
  {
   "cell_type": "code",
   "execution_count": 5,
   "metadata": {},
   "outputs": [
    {
     "data": {
      "text/plain": [
       "(18106, 22211)"
      ]
     },
     "execution_count": 5,
     "metadata": {},
     "output_type": "execute_result"
    }
   ],
   "source": [
    "df.shape"
   ]
  },
  {
   "cell_type": "code",
   "execution_count": 6,
   "metadata": {},
   "outputs": [
    {
     "name": "stdout",
     "output_type": "stream",
     "text": [
      "fitting PCA to this matrix takes 2210.7417068481445 seconds\n"
     ]
    }
   ],
   "source": [
    "pca = PCA()\n",
    "X = df[df.columns[3:]]\n",
    "t0 = time.time()\n",
    "pca.fit(X)\n",
    "print(\"fitting PCA to this matrix takes {0} seconds\".format(time.time()-t0))"
   ]
  },
  {
   "cell_type": "code",
   "execution_count": 16,
   "metadata": {},
   "outputs": [
    {
     "data": {
      "text/plain": [
       "<matplotlib.text.Text at 0x7f7cf5809c18>"
      ]
     },
     "execution_count": 16,
     "metadata": {},
     "output_type": "execute_result"
    },
    {
     "data": {
      "image/png": "[encoded data removed]",
      "text/plain": [
       "<matplotlib.figure.Figure at 0x7f7cf5835f60>"
      ]
     },
     "metadata": {},
     "output_type": "display_data"
    }
   ],
   "source": [
    "plt.plot(np.cumsum(pca.explained_variance_ratio_))\n",
    "plt.title(\"variance explained\")\n",
    "plt.xlabel(\"number of components\")"
   ]
  },
  {
   "cell_type": "code",
   "execution_count": 19,
   "metadata": {},
   "outputs": [],
   "source": [
    "# get number of components where 40%, 60%, 80% of variations are preserved\n",
    "def get_n_component_for_x_variance(x, variance_list):\n",
    "    for i, variance in enumerate(variance_list):\n",
    "        if variance > x:\n",
    "            return i \n",
    "\n",
    "variance_preserved = np.cumsum(pca.explained_variance_ratio_)\n",
    "variance_dict = {}\n",
    "for variance in [0.2, 0.3, 0.4, 0.6,0.8,0.9,0.95,0.99]:\n",
    "    n_components = get_n_component_for_x_variance(\n",
    "        variance, variance_preserved)\n",
    "    variance_dict[variance] = n_components"
   ]
  },
  {
   "cell_type": "code",
   "execution_count": 20,
   "metadata": {},
   "outputs": [
    {
     "name": "stdout",
     "output_type": "stream",
     "text": [
      "{0.2: 4, 0.3: 148, 0.4: 658, 0.6: 2155, 0.8: 4724, 0.9: 7077, 0.95: 9141, 0.99: 12820}\n"
     ]
    }
   ],
   "source": [
    "print(variance_dict)"
   ]
  },
  {
   "cell_type": "code",
   "execution_count": 18,
   "metadata": {
    "collapsed": true
   },
   "outputs": [],
   "source": [
    "X_tranformed = pca.transform(X)"
   ]
  },
  {
   "cell_type": "code",
   "execution_count": null,
   "metadata": {},
   "outputs": [],
   "source": [
    "for variance, n_component in variance_dict.items():\n",
    "    df_PCA = pd.DataFrame(X_tranformed[:, :n_component], index=df.index)\n",
    "    df_PCA.to_csv(\"./data_v4/ExpressionMatrix_PCA_{0}_variance.csv\".format(\n",
    "        variance))"
   ]
  },
  {
   "cell_type": "code",
   "execution_count": null,
   "metadata": {
    "collapsed": true
   },
   "outputs": [],
   "source": []
  }
 ],
 "metadata": {
  "kernelspec": {
   "display_name": "Python 3",
   "language": "python",
   "name": "python3"
  },
  "language_info": {
   "codemirror_mode": {
    "name": "ipython",
    "version": 3
   },
   "file_extension": ".py",
   "mimetype": "text/x-python",
   "name": "python",
   "nbconvert_exporter": "python",
   "pygments_lexer": "ipython3",
   "version": "3.6.2"
  }
 },
 "nbformat": 4,
 "nbformat_minor": 2
}
